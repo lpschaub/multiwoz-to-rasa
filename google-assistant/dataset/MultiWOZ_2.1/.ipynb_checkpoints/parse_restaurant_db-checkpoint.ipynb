{
 "cells": [
  {
   "cell_type": "code",
   "execution_count": 3,
   "metadata": {},
   "outputs": [],
   "source": [
    "import json"
   ]
  },
  {
   "cell_type": "code",
   "execution_count": 5,
   "metadata": {},
   "outputs": [],
   "source": [
    "restaurant_db = None\n",
    "\n",
    "with open(\"restaurant_db.json\") as f_in:\n",
    "    restaurant_db = json.load(f_in)"
   ]
  },
  {
   "cell_type": "code",
   "execution_count": 32,
   "metadata": {},
   "outputs": [],
   "source": [
    "params = {\"food\" : \"international\"}#, \"pricerange\" : \"moderate\"}\n",
    "\n",
    "results = set()\n",
    "\n",
    "for k,v in params.items():\n",
    "    curr_results = list(map(lambda x: x[\"name\"],\\\n",
    "                            filter(lambda x: x[k] == v, restaurant_db)))\n",
    "    results = results.intersection(set(curr_results))"
   ]
  },
  {
   "cell_type": "raw",
   "metadata": {},
   "source": []
  }
 ],
 "metadata": {
  "kernelspec": {
   "display_name": "Python 3",
   "language": "python",
   "name": "python3"
  },
  "language_info": {
   "codemirror_mode": {
    "name": "ipython",
    "version": 3
   },
   "file_extension": ".py",
   "mimetype": "text/x-python",
   "name": "python",
   "nbconvert_exporter": "python",
   "pygments_lexer": "ipython3",
   "version": "3.7.6"
  }
 },
 "nbformat": 4,
 "nbformat_minor": 2
}
